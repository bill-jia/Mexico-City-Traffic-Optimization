{
 "cells": [
  {
   "cell_type": "code",
   "execution_count": 1,
   "metadata": {},
   "outputs": [],
   "source": [
    "from TrafficGraph import TrafficGraph\n",
    "from utils import *\n",
    "import pandas as pd\n",
    "import matplotlib.pyplot as plt\n",
    "import matplotlib as mpl\n",
    "import numpy as np\n",
    "import time\n",
    "\n",
    "%matplotlib inline\n",
    "mpl.rcParams['figure.figsize'] = (10, 6)"
   ]
  },
  {
   "cell_type": "markdown",
   "metadata": {},
   "source": [
    "# Plot jam factor against velocity proportion"
   ]
  },
  {
   "cell_type": "code",
   "execution_count": 17,
   "metadata": {},
   "outputs": [
    {
     "data": {
      "image/png": "[encoded data removed]",
      "text/plain": [
       "<Figure size 720x432 with 1 Axes>"
      ]
     },
     "metadata": {},
     "output_type": "display_data"
    }
   ],
   "source": [
    "vvmax = []\n",
    "jam_factor = []\n",
    "\n",
    "for file in list_files():\n",
    "    data = load_data(file)\n",
    "    vvmax.extend(data[\"actual_speed\"]/data[\"freeflow_speed\"])\n",
    "    jam_factor.extend(data[\"jam_factor\"])\n",
    "\n",
    "paired_data = np.array([vvmax, jam_factor]).T\n",
    "np.random.shuffle(paired_data)\n",
    "fig1 = plt.figure()\n",
    "ax1 = fig1.add_subplot(1,1,1)\n",
    "ax1.scatter(paired_data[0:250,0], paired_data[0:250,1], s = 1)\n",
    "plt.show()"
   ]
  },
  {
   "cell_type": "markdown",
   "metadata": {},
   "source": [
    "# Plot network utilization"
   ]
  },
  {
   "cell_type": "code",
   "execution_count": 2,
   "metadata": {},
   "outputs": [
    {
     "name": "stdout",
     "output_type": "stream",
     "text": [
      "['Monday/2018-05-28T00.00/2018-05-27T23.59.04.000.txt', 'Monday/2018-05-28T00.00/2018-05-28T00.02.04.000.txt', 'Monday/2018-05-28T00.00/2018-05-28T00.05.04.000.txt', 'Monday/2018-05-28T00.00/2018-05-28T00.08.04.000.txt', 'Monday/2018-05-28T00.00/2018-05-28T00.11.04.000.txt', 'Monday/2018-05-28T00.00/2018-05-28T00.14.04.000.txt', 'Monday/2018-05-28T00.00/2018-05-28T00.17.04.000.txt', 'Monday/2018-05-28T00.00/2018-05-28T00.20.04.000.txt', 'Monday/2018-05-28T00.00/2018-05-28T00.23.04.000.txt', 'Monday/2018-05-28T00.00/2018-05-28T00.26.04.000.txt', 'Monday/2018-05-28T00.00/2018-05-28T00.29.04.000.txt', 'Monday/2018-05-28T00.00/2018-05-28T00.32.04.000.txt', 'Monday/2018-05-28T00.00/2018-05-28T00.35.04.000.txt', 'Monday/2018-05-28T00.00/2018-05-28T00.38.04.000.txt', 'Monday/2018-05-28T00.00/2018-05-28T00.41.04.000.txt', 'Monday/2018-05-28T00.00/2018-05-28T00.44.04.000.txt', 'Monday/2018-05-28T00.00/2018-05-28T00.47.04.000.txt', 'Monday/2018-05-28T00.00/2018-05-28T00.50.04.000.txt', 'Monday/2018-05-28T00.00/2018-05-28T00.53.04.000.txt', 'Monday/2018-05-28T00.00/2018-05-28T00.56.04.000.txt']\n"
     ]
    }
   ],
   "source": [
    "print(list_files(\"Monday\", 0))"
   ]
  },
  {
   "cell_type": "code",
   "execution_count": 8,
   "metadata": {},
   "outputs": [
    {
     "name": "stdout",
     "output_type": "stream",
     "text": [
      "Time elapsed: 38.6875\n",
      "0.9685561800653135\n",
      "Time elapsed: 38.546875\n",
      "0.9836316633742624\n",
      "Time elapsed: 38.40625\n",
      "0.9863690920567679\n",
      "Time elapsed: 38.625\n",
      "0.9982279285320695\n",
      "Time elapsed: 38.671875\n",
      "0.997661208528727\n",
      "Time elapsed: 38.65625\n",
      "0.9984938578615331\n",
      "Time elapsed: 39.15625\n",
      "0.9911917206911556\n",
      "Time elapsed: 39.609375\n",
      "0.9906194737401903\n",
      "Time elapsed: 39.34375\n",
      "1.0021204892679054\n",
      "Time elapsed: 38.96875\n",
      "1.0057283999733648\n",
      "Time elapsed: 38.578125\n",
      "1.0051321621568299\n",
      "Time elapsed: 38.71875\n",
      "1.0012371803244693\n",
      "Time elapsed: 39.046875\n",
      "1.0020194268296105\n",
      "Time elapsed: 38.953125\n",
      "1.0074579188356991\n",
      "Time elapsed: 38.546875\n",
      "1.0082109043106116\n",
      "Time elapsed: 38.546875\n",
      "1.0116699298075218\n",
      "Time elapsed: 39.03125\n",
      "1.0151116897069874\n",
      "Time elapsed: 39.21875\n",
      "1.022263119732542\n",
      "Time elapsed: 39.09375\n",
      "1.0218500293087196\n",
      "Time elapsed: 39.046875\n",
      "1.026055718528504\n"
     ]
    },
    {
     "ename": "AttributeError",
     "evalue": "module 'matplotlib.dates' has no attribute 'MinutesLocator'",
     "output_type": "error",
     "traceback": [
      "\u001b[0;31m---------------------------------------------------------------------------\u001b[0m",
      "\u001b[0;31mAttributeError\u001b[0m                            Traceback (most recent call last)",
      "\u001b[0;32m<ipython-input-8-8356436e8962>\u001b[0m in \u001b[0;36m<module>\u001b[0;34m()\u001b[0m\n\u001b[1;32m     18\u001b[0m \u001b[0;34m\u001b[0m\u001b[0m\n\u001b[1;32m     19\u001b[0m \u001b[0mhours\u001b[0m \u001b[0;34m=\u001b[0m \u001b[0mmpl\u001b[0m\u001b[0;34m.\u001b[0m\u001b[0mdates\u001b[0m\u001b[0;34m.\u001b[0m\u001b[0mHourLocator\u001b[0m\u001b[0;34m(\u001b[0m\u001b[0;34m)\u001b[0m\u001b[0;34m\u001b[0m\u001b[0m\n\u001b[0;32m---> 20\u001b[0;31m \u001b[0mminutes\u001b[0m \u001b[0;34m=\u001b[0m \u001b[0mmpl\u001b[0m\u001b[0;34m.\u001b[0m\u001b[0mdates\u001b[0m\u001b[0;34m.\u001b[0m\u001b[0mMinutesLocator\u001b[0m\u001b[0;34m(\u001b[0m\u001b[0;34m)\u001b[0m\u001b[0;34m\u001b[0m\u001b[0m\n\u001b[0m\u001b[1;32m     21\u001b[0m \u001b[0mfig2\u001b[0m\u001b[0;34m,\u001b[0m \u001b[0max2\u001b[0m \u001b[0;34m=\u001b[0m \u001b[0mplt\u001b[0m\u001b[0;34m.\u001b[0m\u001b[0msubplots\u001b[0m\u001b[0;34m(\u001b[0m\u001b[0;34m)\u001b[0m\u001b[0;34m\u001b[0m\u001b[0m\n\u001b[1;32m     22\u001b[0m \u001b[0max2\u001b[0m\u001b[0;34m.\u001b[0m\u001b[0mxaxis\u001b[0m\u001b[0;34m.\u001b[0m\u001b[0mset_major_locator\u001b[0m\u001b[0;34m(\u001b[0m\u001b[0mhours\u001b[0m\u001b[0;34m)\u001b[0m\u001b[0;34m\u001b[0m\u001b[0m\n",
      "\u001b[0;31mAttributeError\u001b[0m: module 'matplotlib.dates' has no attribute 'MinutesLocator'"
     ]
    }
   ],
   "source": [
    "times = []\n",
    "network_utilization = []\n",
    "file_counter = 0\n",
    "curr_time = time.clock()\n",
    "for file in list_files(\"Monday\", 1):\n",
    "    g = TrafficGraph(file)\n",
    "    total_ffvelocity_length = 0\n",
    "    total_velocity_length = 0\n",
    "    times.append(g.timestamp)\n",
    "    for e in g.edges():\n",
    "        total_ffvelocity_length = total_ffvelocity_length + g.freeflow_speed[e]*g.length[e]\n",
    "        total_velocity_length = total_velocity_length + g.actual_speed[e]*g.length[e]\n",
    "    network_utilization.append(total_velocity_length/total_ffvelocity_length)\n",
    "    next_time = time.clock()\n",
    "    print(\"Time elapsed: \" + str(next_time-curr_time))\n",
    "    curr_time = next_time\n",
    "    print(network_utilization[-1])"
   ]
  },
  {
   "cell_type": "code",
   "execution_count": 20,
   "metadata": {},
   "outputs": [
    {
     "name": "stdout",
     "output_type": "stream",
     "text": [
      "[0.9685561800653135, 0.9836316633742624, 0.9863690920567679, 0.9982279285320695, 0.997661208528727, 0.9984938578615331, 0.9911917206911556, 0.9906194737401903, 1.0021204892679054, 1.0057283999733648, 1.0051321621568299, 1.0012371803244693, 1.0020194268296105, 1.0074579188356991, 1.0082109043106116, 1.0116699298075218, 1.0151116897069874, 1.022263119732542, 1.0218500293087196, 1.026055718528504]\n"
     ]
    }
   ],
   "source": [
    "print(network_utilization)\n",
    "times = [path_to_time(file) for file in list_files(\"Monday\", 0)]"
   ]
  },
  {
   "cell_type": "code",
   "execution_count": 21,
   "metadata": {},
   "outputs": [
    {
     "data": {
      "image/png": "[encoded data removed]",
      "text/plain": [
       "<Figure size 720x432 with 1 Axes>"
      ]
     },
     "metadata": {},
     "output_type": "display_data"
    }
   ],
   "source": [
    "hours = mpl.dates.HourLocator()\n",
    "minutes = mpl.dates.MinuteLocator()\n",
    "fig2, ax2 = plt.subplots()\n",
    "ax2.plot(times, network_utilization)\n",
    "ax2.set_xlabel(\"Time\")\n",
    "ax2.set_ylabel(\"Network Utilization\")\n",
    "ax2.set_ylim(0, 1.2)\n",
    "fig2.autofmt_xdate()"
   ]
  },
  {
   "cell_type": "code",
   "execution_count": null,
   "metadata": {},
   "outputs": [
    {
     "name": "stdout",
     "output_type": "stream",
     "text": [
      "Time elapsed: 37.90625\n",
      "Monday/2018-05-28T00.00/2018-05-27T23.59.04.000.txt\n"
     ]
    }
   ],
   "source": [
    "keys = {\"Monday\":0, \"Wednesday\":1, \"Thursday\":2, \"Sunday\":3}\n",
    "graphs = [[],[],[],[]]\n",
    "f = open(\"graph_load.log\", \"w+\")\n",
    "curr_time = time.clock()\n",
    "counter = 0\n",
    "for key in keys:\n",
    "    for tr in range(0,4):\n",
    "        for file in list_files(key, tr):\n",
    "            graphs[keys[key]].append(TrafficGraph(file))\n",
    "            next_time = time.clock()\n",
    "            f.write(\"Time elapsed: \" + str(next_time-curr_time) + \"\\n\")\n",
    "            if counter%100 == 0:\n",
    "                print(\"Time elapsed: \" + str(next_time-curr_time))\n",
    "                print(file)\n",
    "            curr_time = next_time\n",
    "            counter = counter + 1\n",
    "f.close()"
   ]
  },
  {
   "cell_type": "code",
   "execution_count": null,
   "metadata": {},
   "outputs": [],
   "source": []
  }
 ],
 "metadata": {
  "kernelspec": {
   "display_name": "Python 3",
   "language": "python",
   "name": "python3"
  },
  "language_info": {
   "codemirror_mode": {
    "name": "ipython",
    "version": 3
   },
   "file_extension": ".py",
   "mimetype": "text/x-python",
   "name": "python",
   "nbconvert_exporter": "python",
   "pygments_lexer": "ipython3",
   "version": "3.6.5"
  }
 },
 "nbformat": 4,
 "nbformat_minor": 2
}
